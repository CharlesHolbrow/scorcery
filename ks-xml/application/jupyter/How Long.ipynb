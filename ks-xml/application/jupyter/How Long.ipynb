{
 "cells": [
  {
   "cell_type": "code",
   "execution_count": 2,
   "metadata": {
    "collapsed": false
   },
   "outputs": [
    {
     "data": {
      "text/plain": [
       "1061501.848530411"
      ]
     },
     "execution_count": 2,
     "metadata": {},
     "output_type": "execute_result"
    }
   ],
   "source": [
    "import math\n",
    "math.factorial(14)\n",
    "# 87178291200\n",
    "num_patterns = math.factorial(14)\n",
    "num_patterns_of_100_patterns = num_patterns / 100\n",
    "num_patterns_of_100_patterns\n",
    "# 871782912.0\n",
    "num_seconds_of_100_patterns = (34 * 60) * 18.823\n",
    "num_days = (num_patterns_of_100_patterns / 60 / 60 / 24) * num_seconds_of_100_patterns\n",
    "num_days\n",
    "# 387448174.7136\n",
    "num_years = (num_patterns_of_100_patterns / 60 / 60 / 24 / 365) * num_seconds_of_100_patterns\n",
    "num_years\n",
    "# 1061501.848530411\n"
   ]
  }
 ],
 "metadata": {
  "kernelspec": {
   "display_name": "Python 3",
   "language": "python",
   "name": "python3"
  },
  "language_info": {
   "codemirror_mode": {
    "name": "ipython",
    "version": 3
   },
   "file_extension": ".py",
   "mimetype": "text/x-python",
   "name": "python",
   "nbconvert_exporter": "python",
   "pygments_lexer": "ipython3",
   "version": "3.5.1"
  }
 },
 "nbformat": 4,
 "nbformat_minor": 0
}
