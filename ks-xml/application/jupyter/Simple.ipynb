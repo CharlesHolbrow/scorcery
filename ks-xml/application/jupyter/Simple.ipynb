{
 "cells": [
  {
   "cell_type": "code",
   "execution_count": 1,
   "metadata": {
    "collapsed": false
   },
   "outputs": [],
   "source": [
    "import urllib\n",
    "import requests\n",
    "import os\n",
    "from music21 import *"
   ]
  },
  {
   "cell_type": "code",
   "execution_count": 2,
   "metadata": {
    "collapsed": false
   },
   "outputs": [],
   "source": [
    "# Initialize Music21 and \n",
    "\n",
    "defaults.author = ''\n",
    "defaults.title = ''\n",
    "\n",
    "def send_m21_object(obj, scoreName):\n",
    "    xml = musicxml.m21ToString.fromMusic21Object(obj)\n",
    "    headers = {'Content-Type': 'text/xml'}\n",
    "    url = urllib.parse.urljoin('http://ks-images:3000/score/', scoreName)\n",
    "    return requests.post(url, \n",
    "                        data=xml,\n",
    "                        headers=headers,\n",
    "                        timeout=5)"
   ]
  },
  {
   "cell_type": "code",
   "execution_count": 21,
   "metadata": {
    "collapsed": false
   },
   "outputs": [
    {
     "data": {
      "text/plain": [
       "<Response [200]>"
      ]
     },
     "execution_count": 21,
     "metadata": {},
     "output_type": "execute_result"
    }
   ],
   "source": [
    "n = note.Note('b#3')\n",
    "send_m21_object(n, 'a')"
   ]
  },
  {
   "cell_type": "code",
   "execution_count": 22,
   "metadata": {
    "collapsed": false
   },
   "outputs": [
    {
     "data": {
      "text/plain": [
       "<Response [200]>"
      ]
     },
     "execution_count": 22,
     "metadata": {},
     "output_type": "execute_result"
    }
   ],
   "source": [
    "n = note.Note('f--2')\n",
    "send_m21_object(n, 'a')"
   ]
  },
  {
   "cell_type": "code",
   "execution_count": 23,
   "metadata": {
    "collapsed": false
   },
   "outputs": [
    {
     "data": {
      "text/plain": [
       "<Response [200]>"
      ]
     },
     "execution_count": 23,
     "metadata": {},
     "output_type": "execute_result"
    }
   ],
   "source": [
    "n1 = note.Note('c4')\n",
    "n2 = note.Note('d4')\n",
    "n3 = note.Note('e4')\n",
    "n4 = note.Note('f4')\n",
    "\n",
    "n1.duration.quarterLength = 1.5\n",
    "\n",
    "s1 = stream.Stream()\n",
    "s1.append([n1, n2, n3, n4])\n",
    "# s1.append([n1, n2, n3, n4])\n",
    "\n",
    "s2 = s1.transpose('m3')\n",
    "\n",
    "send_m21_object(s1, 'a')\n",
    "\n"
   ]
  },
  {
   "cell_type": "code",
   "execution_count": 24,
   "metadata": {
    "collapsed": false
   },
   "outputs": [
    {
     "data": {
      "text/plain": [
       "<Response [200]>"
      ]
     },
     "execution_count": 24,
     "metadata": {},
     "output_type": "execute_result"
    }
   ],
   "source": [
    "send_m21_object(s2, 'b')"
   ]
  },
  {
   "cell_type": "code",
   "execution_count": 25,
   "metadata": {
    "collapsed": false
   },
   "outputs": [
    {
     "data": {
      "text/plain": [
       "<Response [200]>"
      ]
     },
     "execution_count": 25,
     "metadata": {},
     "output_type": "execute_result"
    }
   ],
   "source": [
    "n = note.Note('c4')\n",
    "send_m21_object(n, 'a')"
   ]
  },
  {
   "cell_type": "code",
   "execution_count": 107,
   "metadata": {
    "collapsed": false
   },
   "outputs": [
    {
     "data": {
      "text/plain": [
       "<Response [200]>"
      ]
     },
     "execution_count": 107,
     "metadata": {},
     "output_type": "execute_result"
    }
   ],
   "source": [
    "n1 = note.Note('c4')\n",
    "n2 = note.Note('d4')\n",
    "n3 = note.Note('e4')\n",
    "n4 = note.Note('f4')\n",
    "\n",
    "n1.pitch.transpose(7, inPlace=True)\n",
    "\n",
    "s1 = stream.Stream()\n",
    "s1.append([n1, n3, n2, n4])\n",
    "s1.makeNotation(inPlace=True)\n",
    "\n",
    "s2 = s1.transpose(interval.GenericInterval(3))\n",
    "s3 = s1.transpose(3)\n",
    "s4 = s1.transpose(-12)\n",
    "\n",
    "s5 = s1.transpose(0)\n",
    "s5[0].transpose(11, inPlace=True)\n",
    "\n",
    "\n",
    "s6 = stream.Stream()\n",
    "n2b = note.Note('d4')\n",
    "n2b.quarterLength = 2\n",
    "s6.append([n1, n2b, n4])\n",
    "\n",
    "send_m21_object(s1, 'a')\n",
    "send_m21_object(s5, 'a')\n",
    "# send_m21_object(s3, 'c')\n",
    "# send_m21_object(s4, 'a')\n",
    "# send_m21_object(s5, 'b')\n",
    "# send_m21_object(s6, 'c')\n",
    "\n"
   ]
  },
  {
   "cell_type": "code",
   "execution_count": 14,
   "metadata": {
    "collapsed": false
   },
   "outputs": [
    {
     "data": {
      "text/plain": [
       "<Response [200]>"
      ]
     },
     "execution_count": 14,
     "metadata": {},
     "output_type": "execute_result"
    }
   ],
   "source": [
    "# Blue Heron Chords\n",
    "c00 = note.Note('d4')\n",
    "c10 = chord.Chord('a3 c4 d4 g4')\n",
    "c11 = chord.Chord('a3 c4 d4 e4 f4')\n",
    "c12 = chord.Chord('g3 c4 d4 f4')\n",
    "c13 = chord.Chord('g3 c4 d4 f4')\n",
    "c14 = chord.Chord('f#3 b3 d4 g4')\n",
    "c15 = chord.Chord('f3 b3 d4 f4')\n",
    "c16 = chord.Chord('e3 b3 d4 e4 f#4 g#4')\n",
    "c17 = chord.Chord('d3 b3 d4 e4 g4 a4')\n",
    "c18 = chord.Chord('d3 a3 c4 d4 e4 f4 g4 a4')\n",
    "\n",
    "send_m21_object(c18, 'b')"
   ]
  },
  {
   "cell_type": "code",
   "execution_count": 31,
   "metadata": {
    "collapsed": false
   },
   "outputs": [],
   "source": [
    "c18.sortDiatonicAscending()\n",
    "s = stream.Stream()\n",
    "for pitch in c18.pitches:\n",
    "    s.insert(0, note.Note(pitch))\n"
   ]
  },
  {
   "cell_type": "code",
   "execution_count": 106,
   "metadata": {
    "collapsed": false
   },
   "outputs": [
    {
     "name": "stdout",
     "output_type": "stream",
     "text": [
      "{0.0} <music21.stream.Part 0x7fd879d1b240>\n",
      "    {0.0} <music21.chord.Chord G3 C4 D4 F4>\n",
      "{0.0} <music21.stream.Part 0x7fd879d1b2b0>\n",
      "    {0.0} <music21.note.Note A#>\n",
      "    {1.0} <music21.note.Note B>\n",
      "    {2.0} <music21.note.Note B>\n",
      "    {3.0} <music21.note.Note B>\n",
      "    {4.0} <music21.note.Note B>\n",
      "    {5.0} <music21.note.Note B>\n",
      "{0.0} <music21.layout.StaffGroup <music21.stream.Part 0x7fd879d1b240><music21.stream.Part 0x7fd879d1b2b0>>\n"
     ]
    },
    {
     "data": {
      "text/plain": [
       "<Response [200]>"
      ]
     },
     "execution_count": 106,
     "metadata": {},
     "output_type": "execute_result"
    }
   ],
   "source": [
    "p1 = stream.Part()\n",
    "p2 = stream.Part()\n",
    "p1.append(c12)\n",
    "p2.append(note.Note('a#3'))\n",
    "p2.repeatAppend(note.Note('b2', type='quarter'), 5)\n",
    "\n",
    "s = stream.Score()\n",
    "s.insert(p1)\n",
    "s.insert(p2)\n",
    "\n",
    "staffGroup = layout.StaffGroup([p1, p2])\n",
    "staffGroup.barTogether = 'Mensurstrich'\n",
    "s.insert(staffGroup)\n",
    "\n",
    "s.show('text')\n",
    "send_m21_object(s, 'c')"
   ]
  },
  {
   "cell_type": "code",
   "execution_count": 93,
   "metadata": {
    "collapsed": false
   },
   "outputs": [],
   "source": [
    "p1.repeatAppend?"
   ]
  }
 ],
 "metadata": {
  "kernelspec": {
   "display_name": "Python 3",
   "language": "python",
   "name": "python3"
  },
  "language_info": {
   "codemirror_mode": {
    "name": "ipython",
    "version": 3
   },
   "file_extension": ".py",
   "mimetype": "text/x-python",
   "name": "python",
   "nbconvert_exporter": "python",
   "pygments_lexer": "ipython3",
   "version": "3.5.1"
  }
 },
 "nbformat": 4,
 "nbformat_minor": 0
}
