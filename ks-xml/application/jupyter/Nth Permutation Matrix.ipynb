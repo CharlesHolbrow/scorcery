{
 "cells": [
  {
   "cell_type": "markdown",
   "metadata": {},
   "source": [
    "# Finding the nth permutation matrix\n",
    "\n",
    "Assume we have an $m \\times{} n$ matrix.\n",
    "\n",
    "\\begin{bmatrix}\n",
    "0 & 1 & 0 \\\\\n",
    "1 & 0 & 0 \\\\\n",
    "0 & 0 & 1\n",
    "\\end{bmatrix}\n"
   ]
  },
  {
   "cell_type": "code",
   "execution_count": 69,
   "metadata": {
    "collapsed": true
   },
   "outputs": [],
   "source": [
    "import numpy as np\n",
    "import math"
   ]
  },
  {
   "cell_type": "code",
   "execution_count": 75,
   "metadata": {
    "collapsed": false
   },
   "outputs": [],
   "source": []
  },
  {
   "cell_type": "code",
   "execution_count": 87,
   "metadata": {
    "collapsed": false
   },
   "outputs": [
    {
     "data": {
      "text/plain": [
       "[1, 8, 6, 11, 4, 7, 0, 12, 2, 10, 5, 9, 3, 13]"
      ]
     },
     "execution_count": 87,
     "metadata": {},
     "output_type": "execute_result"
    }
   ],
   "source": [
    "nth_permutation_indices(9809900000, 14)"
   ]
  },
  {
   "cell_type": "code",
   "execution_count": 79,
   "metadata": {
    "collapsed": false
   },
   "outputs": [
    {
     "name": "stdout",
     "output_type": "stream",
     "text": [
      "next up: 0\n",
      "[0, 1, 2, 3]\n",
      "next up: 1\n",
      "[0, 1, 3, 2]\n",
      "next up: 2\n",
      "[0, 2, 1, 3]\n",
      "next up: 3\n",
      "[0, 2, 3, 1]\n",
      "next up: 4\n",
      "[0, 3, 1, 2]\n",
      "next up: 5\n",
      "[0, 3, 2, 1]\n",
      "next up: 6\n",
      "[1, 0, 2, 3]\n",
      "next up: 7\n",
      "[1, 0, 3, 2]\n",
      "next up: 8\n",
      "[1, 2, 0, 3]\n",
      "next up: 9\n",
      "[1, 2, 3, 0]\n",
      "next up: 10\n",
      "[1, 3, 0, 2]\n",
      "next up: 11\n",
      "[1, 3, 2, 0]\n",
      "next up: 12\n",
      "[2, 0, 1, 3]\n",
      "next up: 13\n",
      "[2, 0, 3, 1]\n",
      "next up: 14\n",
      "[2, 1, 0, 3]\n",
      "next up: 15\n",
      "[2, 1, 3, 0]\n",
      "next up: 16\n",
      "[2, 3, 0, 1]\n",
      "next up: 17\n",
      "[2, 3, 1, 0]\n",
      "next up: 18\n",
      "[3, 0, 1, 2]\n",
      "next up: 19\n",
      "[3, 0, 2, 1]\n",
      "next up: 20\n",
      "[3, 1, 0, 2]\n",
      "next up: 21\n",
      "[3, 1, 2, 0]\n",
      "next up: 22\n",
      "[3, 2, 0, 1]\n",
      "next up: 23\n",
      "[3, 2, 1, 0]\n"
     ]
    }
   ],
   "source": [
    "upto = 4\n",
    "for i in range(math.factorial(upto)):\n",
    "    print('next up: {0}'.format(i))\n",
    "    print(nth_permutation_indices(i, upto))"
   ]
  },
  {
   "cell_type": "code",
   "execution_count": null,
   "metadata": {
    "collapsed": true
   },
   "outputs": [],
   "source": []
  }
 ],
 "metadata": {
  "kernelspec": {
   "display_name": "Python 3",
   "language": "python",
   "name": "python3"
  },
  "language_info": {
   "codemirror_mode": {
    "name": "ipython",
    "version": 3
   },
   "file_extension": ".py",
   "mimetype": "text/x-python",
   "name": "python",
   "nbconvert_exporter": "python",
   "pygments_lexer": "ipython3",
   "version": "3.5.1"
  }
 },
 "nbformat": 4,
 "nbformat_minor": 0
}
