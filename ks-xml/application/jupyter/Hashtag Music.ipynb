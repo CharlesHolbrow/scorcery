{
 "cells": [
  {
   "cell_type": "code",
   "execution_count": 1,
   "metadata": {
    "collapsed": false
   },
   "outputs": [],
   "source": [
    "import urllib\n",
    "import requests\n",
    "import itertools\n",
    "import math\n",
    "from copy import deepcopy as mcopy\n",
    "from music21 import *\n",
    "\n",
    "from ksxml import permute, \\\n",
    "    nth_permutation_indices, \\\n",
    "    send_m21_object, \\\n",
    "    write_midi_file, \\\n",
    "    send_transport_command"
   ]
  },
  {
   "cell_type": "code",
   "execution_count": 5,
   "metadata": {
    "collapsed": false
   },
   "outputs": [
    {
     "data": {
      "text/plain": [
       "<Response [200]>"
      ]
     },
     "execution_count": 5,
     "metadata": {},
     "output_type": "execute_result"
    }
   ],
   "source": [
    "send_transport_command('a', 'play')"
   ]
  },
  {
   "cell_type": "code",
   "execution_count": 8,
   "metadata": {
    "collapsed": true
   },
   "outputs": [],
   "source": [
    "def append_octave_up(stream):\n",
    "    \"\"\"Append a copy of the stream an octave up (in place)\"\"\"\n",
    "    for n in stream.notes:\n",
    "        stream.append(n.transpose(12))\n",
    "    return stream\n",
    "\n",
    "def all_but_last(a_stream):\n",
    "    \"\"\"Return a new stream that includes all but the last note.\n",
    "    Discard any non-note items in the stream.\n",
    "    \"\"\"\n",
    "    Class = a_stream.__class__\n",
    "    result = Class()\n",
    "    notes = list(mcopy(a_stream).notesAndRests)\n",
    "    if len(notes) <= 1:\n",
    "        return result\n",
    "    result.append(notes[:-1])\n",
    "    return result\n",
    "\n",
    "def all_but_first_and_last(a_stream):\n",
    "    \"\"\"Return a new stream of the same type that includes all but\n",
    "    the first and last rests/notes\"\"\"\n",
    "    Class = a_stream.__class__\n",
    "    result = Class()\n",
    "    notes = list(mcopy(a_stream).notesAndRests)\n",
    "    if len(notes) <= 2:\n",
    "        return result\n",
    "    result.append(notes[1:-1])\n",
    "    return result\n",
    "\n",
    "def reverse_notes(a_stream):\n",
    "    \"\"\"Return a new stream with the notes and rests reversed.\"\"\"\n",
    "    Class = a_stream.__class__\n",
    "    result = Class()\n",
    "    notes = list(mcopy(a_stream).notesAndRests)\n",
    "    notes.reverse()\n",
    "    result.append(notes)\n",
    "    return result\n",
    "\n",
    "def all_but_first(a_stream):\n",
    "    \"\"\"\"\"\"\n",
    "    return reverse_notes(all_but_last(reverse_notes(a_stream)))\n",
    "\n",
    "def arp_forward_rev_x_times(a_stream, x):\n",
    "    \"\"\"Arpeggiate a stream of notes x times. Playback the stream\n",
    "    in reverse order, without playing the last note in the\n",
    "    original stream twice. Go through and back x times.\"\"\"\n",
    "    \n",
    "    Class = a_stream.__class__\n",
    "    result = Class()\n",
    "\n",
    "    # All but last reversed\n",
    "    abflr = reverse_notes(all_but_first_and_last(a_stream))\n",
    "    result.append(a_stream)\n",
    "    result.append(abflr)\n",
    "\n",
    "    appendage = mcopy(result).flat\n",
    "    result.repeatAppend(appendage, x - 1)\n",
    "    return result.flat\n"
   ]
  },
  {
   "cell_type": "code",
   "execution_count": 9,
   "metadata": {
    "collapsed": false
   },
   "outputs": [],
   "source": [
    "def hashtag_music(note_list):\n",
    "    s1 = stream.Part()\n",
    "    noteList = [note.Note(n, type='16th') for n in note_list]\n",
    "    s1.append(noteList)\n",
    "    append_octave_up(s1)\n",
    "    return arp_forward_rev_x_times(s1, 1)"
   ]
  },
  {
   "cell_type": "code",
   "execution_count": 10,
   "metadata": {
    "collapsed": false
   },
   "outputs": [
    {
     "data": {
      "text/plain": [
       "<Response [200]>"
      ]
     },
     "execution_count": 10,
     "metadata": {},
     "output_type": "execute_result"
    }
   ],
   "source": [
    "n1 = ['C3', 'D3', 'G3', 'A3']\n",
    "n1_midi = [note.Note(name).pitch.midi for name in n1]\n",
    "stream1 = hashtag_music(n1)\n",
    "stream1.insert(clef.BassClef())\n",
    "send_m21_object('a', stream1)\n",
    "\n",
    "n2 = ['C3', 'e3', 'G3', 'b3']\n",
    "n2_midi = [note.Note(name).pitch.midi for name in n2]\n",
    " \n",
    "stream2 = hashtag_music(n2)\n",
    "stream2.insert(clef.BassClef())\n",
    "send_m21_object('a', stream2)\n",
    "\n",
    "n3 = ['D3', 'E3', 'A3', 'B3']\n",
    "n3_midi = [note.Note(name).pitch.midi for name in n3]\n",
    "stream3 = hashtag_music(n3)\n",
    "stream3.insert(clef.BassClef())\n",
    "send_m21_object('a', stream3)"
   ]
  },
  {
   "cell_type": "code",
   "execution_count": 11,
   "metadata": {
    "collapsed": false
   },
   "outputs": [],
   "source": [
    "cycle_me = [n1_midi, n1_midi, n2_midi, n2_midi, n3_midi, n3_midi]\n",
    "cycle_me = [ns + [n + 12 for n in ns] for ns in cycle_me] # append upper octave"
   ]
  },
  {
   "cell_type": "code",
   "execution_count": 12,
   "metadata": {
    "collapsed": false
   },
   "outputs": [],
   "source": [
    "# Randomize and mirror\n",
    "permutation_stream = stream.Stream()\n",
    "for notes_midi, order, r in zip(itertools.cycle(cycle_me), permute(list(range(8))), range(200)):\n",
    "    \n",
    "    re_ordered_midi = [notes_midi[i] for i in order]\n",
    "\n",
    "    # ramp arp back down\n",
    "    reversed_midi = re_ordered_midi[1: -1]\n",
    "    reversed_midi.reverse()    \n",
    "    forward_back_midi = re_ordered_midi + reversed_midi\n",
    "        \n",
    "    # add \n",
    "    permutation_stream.append([note.Note(num, type='16th') for num in forward_back_midi])"
   ]
  },
  {
   "cell_type": "code",
   "execution_count": 14,
   "metadata": {
    "collapsed": false
   },
   "outputs": [],
   "source": [
    "# Randomize full forward and back\n",
    "\n",
    "initial_order = nth_permutation_indices(0, 14)\n",
    "permutation_stream = stream.Stream()\n",
    "for notes_midi, order, r in zip(itertools.cycle(cycle_me), permute(initial_order), range(100)):\n",
    "    \n",
    "    # ramp arp back down\n",
    "    reversed_midi = notes_midi[1: -1]\n",
    "    reversed_midi.reverse()    \n",
    "    forward_back_midi = notes_midi + reversed_midi\n",
    "    \n",
    "    re_ordered_midi = [forward_back_midi[i] for i in order]\n",
    "        \n",
    "    # add \n",
    "    permutation_stream.append([note.Note(num, type='16th') for num in re_ordered_midi])"
   ]
  },
  {
   "cell_type": "code",
   "execution_count": 15,
   "metadata": {
    "collapsed": false
   },
   "outputs": [],
   "source": [
    "write_midi_file(permutation_stream, '/session/default.mid')"
   ]
  },
  {
   "cell_type": "code",
   "execution_count": 48,
   "metadata": {
    "collapsed": true
   },
   "outputs": [],
   "source": [
    "write_midi_file(stream3)"
   ]
  },
  {
   "cell_type": "code",
   "execution_count": 30,
   "metadata": {
    "collapsed": false
   },
   "outputs": [
    {
     "data": {
      "text/plain": [
       "<Response [200]>"
      ]
     },
     "execution_count": 30,
     "metadata": {},
     "output_type": "execute_result"
    }
   ],
   "source": [
    "send_m21_object('a', stream1.flat)"
   ]
  },
  {
   "cell_type": "code",
   "execution_count": 49,
   "metadata": {
    "collapsed": false
   },
   "outputs": [],
   "source": [
    "three_sections = stream.Stream()\n",
    "three_sections.append([stream1, stream2, stream3])\n",
    "write_midi_file(three_sections.flat)"
   ]
  },
  {
   "cell_type": "code",
   "execution_count": null,
   "metadata": {
    "collapsed": true
   },
   "outputs": [],
   "source": []
  }
 ],
 "metadata": {
  "kernelspec": {
   "display_name": "Python 3",
   "language": "python",
   "name": "python3"
  },
  "language_info": {
   "codemirror_mode": {
    "name": "ipython",
    "version": 3
   },
   "file_extension": ".py",
   "mimetype": "text/x-python",
   "name": "python",
   "nbconvert_exporter": "python",
   "pygments_lexer": "ipython3",
   "version": "3.5.1"
  }
 },
 "nbformat": 4,
 "nbformat_minor": 0
}
