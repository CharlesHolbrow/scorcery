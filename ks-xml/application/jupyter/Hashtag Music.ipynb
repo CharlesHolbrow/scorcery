{
 "cells": [
  {
   "cell_type": "code",
   "execution_count": 1,
   "metadata": {
    "collapsed": true
   },
   "outputs": [],
   "source": [
    "import urllib\n",
    "import requests\n",
    "import os\n",
    "from copy import deepcopy as mcopy\n",
    "from music21 import *"
   ]
  },
  {
   "cell_type": "code",
   "execution_count": 9,
   "metadata": {
    "collapsed": true
   },
   "outputs": [],
   "source": [
    "# Initialize Music21 and \n",
    "\n",
    "defaults.author = ''\n",
    "defaults.title = ''\n",
    "\n",
    "def send_m21_object(obj, scoreName):\n",
    "    xml = musicxml.m21ToString.fromMusic21Object(obj)\n",
    "    headers = {'Content-Type': 'text/xml'}\n",
    "    url = urllib.parse.urljoin('http://ks-images:3000/score/', scoreName)\n",
    "    return requests.post(url, \n",
    "                        data=xml,\n",
    "                        headers=headers,\n",
    "                        timeout=5)\n",
    "def write_midi_file(a_stream, filename='default.mid'):\n",
    "    mf = midi.translate.streamToMidiFile(a_stream)\n",
    "    mf.open(filename, 'wb')\n",
    "    mf.write()\n",
    "    mf.close()"
   ]
  },
  {
   "cell_type": "code",
   "execution_count": 10,
   "metadata": {
    "collapsed": true
   },
   "outputs": [],
   "source": [
    "def append_octave_up(stream):\n",
    "    \"\"\"Append a copy of the stream an octave up (in place)\"\"\"\n",
    "    for n in stream.notes:\n",
    "        stream.append(n.transpose(12))\n",
    "    return stream\n",
    "\n",
    "def all_but_last(a_stream):\n",
    "    \"\"\"Return a new stream that includes all but the last note.\n",
    "    Discard any non-note items in the stream.\n",
    "    \"\"\"\n",
    "    Class = a_stream.__class__\n",
    "    result = Class()\n",
    "    notes = list(mcopy(a_stream).notesAndRests)\n",
    "    if len(notes) <= 1:\n",
    "        return result\n",
    "    result.append(notes[:-1])\n",
    "    return result\n",
    "\n",
    "def all_but_first_and_last(a_stream):\n",
    "    \"\"\"Return a new stream of the same type that includes all but\n",
    "    the first and last rests/notes\"\"\"\n",
    "    Class = a_stream.__class__\n",
    "    result = Class()\n",
    "    notes = list(mcopy(a_stream).notesAndRests)\n",
    "    if len(notes) <= 2:\n",
    "        return result\n",
    "    result.append(notes[1:-1])\n",
    "    return result\n",
    "\n",
    "def reverse_notes(a_stream):\n",
    "    \"\"\"Return a new stream with the notes and rests reversed.\"\"\"\n",
    "    Class = a_stream.__class__\n",
    "    result = Class()\n",
    "    notes = list(mcopy(a_stream).notesAndRests)\n",
    "    notes.reverse()\n",
    "    result.append(notes)\n",
    "    return result\n",
    "\n",
    "def all_but_first(a_stream):\n",
    "    \"\"\"\"\"\"\n",
    "    return reverse_notes(all_but_last(reverse_notes(a_stream)))\n",
    "\n",
    "def arp_forward_rev_x_times(a_stream, x):\n",
    "    \"\"\"Arpeggiate a stream of notes x times. Playback the stream\n",
    "    in reverse order, without playing the last note in the\n",
    "    original stream twice. Finish on the note where we started.\n",
    "    go through and back x times.\"\"\"\n",
    "    \n",
    "    Class = a_stream.__class__\n",
    "    result = Class()\n",
    "\n",
    "    # All but last reversed\n",
    "    ablr = reverse_notes(all_but_last(a_stream))\n",
    "    result.append(a_stream)\n",
    "    result.append(ablr)\n",
    "\n",
    "    appendage = all_but_first(mcopy(result).flat)    \n",
    "    result.repeatAppend(appendage, x - 1)\n",
    "    return result.flat\n"
   ]
  },
  {
   "cell_type": "code",
   "execution_count": 11,
   "metadata": {
    "collapsed": false
   },
   "outputs": [],
   "source": [
    "def hashtag_music(note_list):\n",
    "    s1 = stream.Part()\n",
    "    noteList = [note.Note(n, type='16th') for n in note_list]\n",
    "    s1.append(noteList)\n",
    "    append_octave_up(s1)\n",
    "    return arp_forward_rev_x_times(s1, 4)"
   ]
  },
  {
   "cell_type": "code",
   "execution_count": 24,
   "metadata": {
    "collapsed": false
   },
   "outputs": [
    {
     "data": {
      "text/plain": [
       "<Response [200]>"
      ]
     },
     "execution_count": 24,
     "metadata": {},
     "output_type": "execute_result"
    }
   ],
   "source": [
    "n1 = ['C3', 'D3', 'G3', 'A3']\n",
    "stream1 = hashtag_music(n1)\n",
    "stream1.insert(clef.BassClef())\n",
    "send_m21_object(stream1, 'a')\n",
    "\n",
    "n2 = ['C3', 'e3', 'G3', 'b3']\n",
    "stream2 = hashtag_music(n2)\n",
    "stream2.insert(clef.BassClef())\n",
    "send_m21_object(stream2, 'a')\n",
    "\n",
    "n3 = ['D3', 'E3', 'A3', 'B3']\n",
    "stream3 = hashtag_music(n3)\n",
    "stream3.insert(clef.BassClef())\n",
    "send_m21_object(stream3, 'a')"
   ]
  },
  {
   "cell_type": "code",
   "execution_count": null,
   "metadata": {
    "collapsed": true
   },
   "outputs": [],
   "source": [
    "c1 = "
   ]
  },
  {
   "cell_type": "code",
   "execution_count": 21,
   "metadata": {
    "collapsed": false
   },
   "outputs": [],
   "source": [
    "write_midi_file(stream2)"
   ]
  },
  {
   "cell_type": "code",
   "execution_count": 19,
   "metadata": {
    "collapsed": true
   },
   "outputs": [],
   "source": [
    "write_midi_file(stream1)"
   ]
  },
  {
   "cell_type": "code",
   "execution_count": 26,
   "metadata": {
    "collapsed": true
   },
   "outputs": [],
   "source": [
    "write_midi_file(stream3)"
   ]
  },
  {
   "cell_type": "code",
   "execution_count": 34,
   "metadata": {
    "collapsed": false
   },
   "outputs": [],
   "source": [
    "three_sections = stream.Stream()\n",
    "three_sections.append([stream1, stream2, stream3])\n",
    "write_midi_file(three_sections.flat)"
   ]
  },
  {
   "cell_type": "code",
   "execution_count": 35,
   "metadata": {
    "collapsed": false
   },
   "outputs": [
    {
     "data": {
      "text/plain": [
       "<music21.stream.Stream 0x7f7cf1212860>"
      ]
     },
     "execution_count": 35,
     "metadata": {},
     "output_type": "execute_result"
    }
   ],
   "source": [
    "three_sections"
   ]
  }
 ],
 "metadata": {
  "kernelspec": {
   "display_name": "Python 3",
   "language": "python",
   "name": "python3"
  },
  "language_info": {
   "codemirror_mode": {
    "name": "ipython",
    "version": 3
   },
   "file_extension": ".py",
   "mimetype": "text/x-python",
   "name": "python",
   "nbconvert_exporter": "python",
   "pygments_lexer": "ipython3",
   "version": "3.5.1"
  }
 },
 "nbformat": 4,
 "nbformat_minor": 0
}
