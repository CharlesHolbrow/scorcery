{
 "cells": [
  {
   "cell_type": "code",
   "execution_count": 1,
   "metadata": {
    "collapsed": false
   },
   "outputs": [],
   "source": [
    "import urllib\n",
    "import requests\n",
    "import itertools\n",
    "from copy import deepcopy as mcopy\n",
    "from music21 import *\n",
    "\n",
    "from ksxml import permute, \\\n",
    "    nth_permutation_indices, \\\n",
    "    send_m21_object, \\\n",
    "    write_midi_file, \\\n",
    "    send_transport_command"
   ]
  },
  {
   "cell_type": "code",
   "execution_count": 5,
   "metadata": {
    "collapsed": false
   },
   "outputs": [
    {
     "data": {
      "text/plain": [
       "<Response [200]>"
      ]
     },
     "execution_count": 5,
     "metadata": {},
     "output_type": "execute_result"
    }
   ],
   "source": [
    "send_transport_command('a', 'play')"
   ]
  },
  {
   "cell_type": "code",
   "execution_count": 2,
   "metadata": {
    "collapsed": false
   },
   "outputs": [],
   "source": [
    "def hashtag_music(note_names):\n",
    "    midi_numbers   = [note.Note(name).pitch.midi for name in note_names]\n",
    "    with_octave_up = midi_numbers + [number + 12 for number in midi_numbers]\n",
    "    appendage      = with_octave_up[1:-1]\n",
    "    appendage.reverse()\n",
    "    forward_back   = with_octave_up + appendage\n",
    "    note_list = [note.Note(n, type='16th') for n in forward_back]\n",
    "    \n",
    "    # When making a note from a midi number, m21 automagically inserts a 'natural' accidental\n",
    "    for n in note_list:\n",
    "        if n.pitch.accidental and n.pitch.accidental.name == 'natural':\n",
    "            n.pitch.accidental = None\n",
    "    \n",
    "    s1 = stream.Part()        \n",
    "    s1.append(note_list)\n",
    "    return s1"
   ]
  },
  {
   "cell_type": "code",
   "execution_count": 9,
   "metadata": {
    "collapsed": false
   },
   "outputs": [
    {
     "data": {
      "text/plain": [
       "<Response [200]>"
      ]
     },
     "execution_count": 9,
     "metadata": {},
     "output_type": "execute_result"
    }
   ],
   "source": [
    "# source material\n",
    "n1 = ['C3', 'D3', 'G3', 'A3']\n",
    "n1_midi = [note.Note(name).pitch.midi for name in n1]\n",
    "\n",
    "n2 = ['C3', 'e3', 'G3', 'b3']\n",
    "n2_midi = [note.Note(name).pitch.midi for name in n2]\n",
    " \n",
    "\n",
    "n3 = ['D3', 'E3', 'A3', 'B3']\n",
    "n3_midi = [note.Note(name).pitch.midi for name in n3]\n",
    "\n",
    "cycle_me = [n1_midi, n1_midi, n2_midi, n2_midi, n3_midi, n3_midi]\n",
    "cycle_me = [ns + [n + 12 for n in ns] for ns in cycle_me] # append upper octave"
   ]
  },
  {
   "cell_type": "code",
   "execution_count": 12,
   "metadata": {
    "collapsed": false
   },
   "outputs": [],
   "source": [
    "# Permute, then mirror\n",
    "permutation_stream = stream.Stream()\n",
    "for notes_midi, order, r in zip(itertools.cycle(cycle_me), permute(list(range(8))), range(200)):\n",
    "    \n",
    "    re_ordered_midi = [notes_midi[i] for i in order]\n",
    "\n",
    "    # ramp arp back down\n",
    "    reversed_midi = re_ordered_midi[1: -1]\n",
    "    reversed_midi.reverse()    \n",
    "    forward_back_midi = re_ordered_midi + reversed_midi\n",
    "        \n",
    "    # add \n",
    "    permutation_stream.append([note.Note(num, type='16th') for num in forward_back_midi])"
   ]
  },
  {
   "cell_type": "code",
   "execution_count": 38,
   "metadata": {
    "collapsed": false
   },
   "outputs": [],
   "source": [
    "# Mirror, then permute\n",
    "initial_order = nth_permutation_indices(87178291190, 14)\n",
    "permutation_stream = stream.Stream()\n",
    "for notes_midi, order, r in zip(itertools.cycle(cycle_me), permute(initial_order), range(100)):\n",
    "    \n",
    "    # ramp arp back down\n",
    "    reversed_midi = notes_midi[1: -1]\n",
    "    reversed_midi.reverse()    \n",
    "    forward_back_midi = notes_midi + reversed_midi\n",
    "    \n",
    "    re_ordered_midi = [forward_back_midi[i] for i in order]\n",
    "        \n",
    "    # add \n",
    "    permutation_stream.append([note.Note(num, type='16th') for num in re_ordered_midi])"
   ]
  },
  {
   "cell_type": "code",
   "execution_count": 24,
   "metadata": {
    "collapsed": false
   },
   "outputs": [
    {
     "data": {
      "text/plain": [
       "<Response [200]>"
      ]
     },
     "execution_count": 24,
     "metadata": {},
     "output_type": "execute_result"
    }
   ],
   "source": [
    "# Test pushing score to browser client from a m21 stream object\n",
    "stream1 = hashtag_music(n1)\n",
    "send_m21_object('a', stream1)"
   ]
  },
  {
   "cell_type": "code",
   "execution_count": 39,
   "metadata": {
    "collapsed": false
   },
   "outputs": [],
   "source": [
    "# Test writing a score file\n",
    "write_midi_file(permutation_stream, '/session/default.mid')"
   ]
  },
  {
   "cell_type": "code",
   "execution_count": 33,
   "metadata": {
    "collapsed": false
   },
   "outputs": [
    {
     "data": {
      "text/plain": [
       "<Response [200]>"
      ]
     },
     "execution_count": 33,
     "metadata": {},
     "output_type": "execute_result"
    }
   ],
   "source": [
    "# Test Transport Controls\n",
    "send_transport_command('a', 'play')"
   ]
  },
  {
   "cell_type": "code",
   "execution_count": 32,
   "metadata": {
    "collapsed": false
   },
   "outputs": [
    {
     "data": {
      "text/plain": [
       "<Response [200]>"
      ]
     },
     "execution_count": 32,
     "metadata": {},
     "output_type": "execute_result"
    }
   ],
   "source": [
    "send_transport_command('a', 'stop')"
   ]
  },
  {
   "cell_type": "code",
   "execution_count": 40,
   "metadata": {
    "collapsed": false
   },
   "outputs": [
    {
     "data": {
      "text/plain": [
       "<Response [200]>"
      ]
     },
     "execution_count": 40,
     "metadata": {},
     "output_type": "execute_result"
    }
   ],
   "source": [
    "send_transport_command('a', 'reload')"
   ]
  },
  {
   "cell_type": "code",
   "execution_count": null,
   "metadata": {
    "collapsed": true
   },
   "outputs": [],
   "source": []
  }
 ],
 "metadata": {
  "kernelspec": {
   "display_name": "Python 3",
   "language": "python",
   "name": "python3"
  },
  "language_info": {
   "codemirror_mode": {
    "name": "ipython",
    "version": 3
   },
   "file_extension": ".py",
   "mimetype": "text/x-python",
   "name": "python",
   "nbconvert_exporter": "python",
   "pygments_lexer": "ipython3",
   "version": "3.5.1"
  }
 },
 "nbformat": 4,
 "nbformat_minor": 0
}
