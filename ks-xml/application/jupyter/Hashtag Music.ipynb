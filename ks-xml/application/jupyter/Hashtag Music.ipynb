{
 "cells": [
  {
   "cell_type": "code",
   "execution_count": 116,
   "metadata": {
    "collapsed": true
   },
   "outputs": [],
   "source": [
    "import urllib\n",
    "import requests\n",
    "import os\n",
    "from copy import deepcopy as mcopy\n",
    "from music21 import *"
   ]
  },
  {
   "cell_type": "code",
   "execution_count": 5,
   "metadata": {
    "collapsed": true
   },
   "outputs": [],
   "source": [
    "# Initialize Music21 and \n",
    "\n",
    "defaults.author = ''\n",
    "defaults.title = ''\n",
    "\n",
    "def send_m21_object(obj, scoreName):\n",
    "    xml = musicxml.m21ToString.fromMusic21Object(obj)\n",
    "    headers = {'Content-Type': 'text/xml'}\n",
    "    url = urllib.parse.urljoin('http://ks-images:3000/score/', scoreName)\n",
    "    return requests.post(url, \n",
    "                        data=xml,\n",
    "                        headers=headers,\n",
    "                        timeout=5)"
   ]
  },
  {
   "cell_type": "code",
   "execution_count": 194,
   "metadata": {
    "collapsed": true
   },
   "outputs": [],
   "source": [
    "def append_octave_up(stream):\n",
    "    \"\"\"Append a copy of the stream an octave up (in place)\"\"\"\n",
    "    for n in stream.notes:\n",
    "        stream.append(n.transpose(12))\n",
    "    return stream\n",
    "\n",
    "def all_but_last(a_stream):\n",
    "    \"\"\"Return a new stream that includes all but the last note.\n",
    "    Discard any non-note items in the stream.\n",
    "    \"\"\"\n",
    "    Class = a_stream.__class__\n",
    "    result = Class()\n",
    "    notes = list(mcopy(a_stream).notesAndRests)\n",
    "    if len(notes) <= 1:\n",
    "        return result\n",
    "    result.append(notes[:-1])\n",
    "    return result\n",
    "\n",
    "def all_but_first_and_last(a_stream):\n",
    "    \"\"\"Return a new stream of the same type that includes all but\n",
    "    the first and last rests/notes\"\"\"\n",
    "    Class = a_stream.__class__\n",
    "    result = Class()\n",
    "    notes = list(mcopy(a_stream).notesAndRests)\n",
    "    if len(notes) <= 2:\n",
    "        return result\n",
    "    result.append(notes[1:-1])\n",
    "    return result\n",
    "\n",
    "def reverse_notes(a_stream):\n",
    "    \"\"\"Return a new stream with the notes and rests reversed.\"\"\"\n",
    "    Class = a_stream.__class__\n",
    "    result = Class()\n",
    "    notes = list(mcopy(a_stream).notesAndRests)\n",
    "    notes.reverse()\n",
    "    result.append(notes)\n",
    "    return result\n",
    "\n",
    "def all_but_first(a_stream):\n",
    "    \"\"\"\"\"\"\n",
    "    return reverse_notes(all_but_last(reverse_notes(a_stream)))\n",
    "\n",
    "def arp_forward_rev_x_times(a_stream, x):\n",
    "    \"\"\"Arpeggiate a stream of notes x times. Playback the stream\n",
    "    in reverse order, without playing the last note in the\n",
    "    original stream twice. Finish on the note where we started.\n",
    "    go through and back x times.\"\"\"\n",
    "    \n",
    "    Class = a_stream.__class__\n",
    "    result = Class()\n",
    "\n",
    "    # All but last reversed\n",
    "    ablr = reverse_notes(all_but_last(a_stream))\n",
    "    result.append(a_stream)\n",
    "    result.append(ablr)\n",
    "\n",
    "    appendage = all_but_first(mcopy(result).flat)    \n",
    "    result.repeatAppend(appendage, x - 1)\n",
    "    return result.flat\n"
   ]
  },
  {
   "cell_type": "code",
   "execution_count": 199,
   "metadata": {
    "collapsed": false
   },
   "outputs": [
    {
     "data": {
      "text/plain": [
       "<Response [200]>"
      ]
     },
     "execution_count": 199,
     "metadata": {},
     "output_type": "execute_result"
    }
   ],
   "source": [
    "s1 = stream.Part()\n",
    "noteList = [note.Note(n, type='16th') for n in ['C3', 'D3', 'G3', 'A3']]\n",
    "s1.append(noteList)\n",
    "# append_octave_up(s1)\n",
    "part1 = arp_forward_rev_x_times(s1, 4)\n",
    "send_m21_object(part1, 'a')"
   ]
  },
  {
   "cell_type": "code",
   "execution_count": 178,
   "metadata": {
    "collapsed": false
   },
   "outputs": [
    {
     "name": "stdout",
     "output_type": "stream",
     "text": [
      "{0.0} <music21.note.Note A>\n",
      "{1.0} <music21.note.Note B>\n",
      "{2.0} <music21.note.Note C>\n",
      "asd\n",
      "{0.0} <music21.note.Note C>\n",
      "{1.0} <music21.note.Note B>\n",
      "{2.0} <music21.note.Note A>\n",
      "all but last (reverse)\n",
      "notes\n",
      "[<music21.note.Note C>, <music21.note.Note B>, <music21.note.Note A>]\n",
      "{0.0} <music21.note.Note C>\n",
      "{1.0} <music21.note.Note B>\n",
      "all but first\n",
      "notes\n",
      "[<music21.note.Note C>, <music21.note.Note B>, <music21.note.Note A>]\n",
      "{0.0} <music21.note.Note B>\n",
      "{1.0} <music21.note.Note C>\n"
     ]
    }
   ],
   "source": [
    "s = stream.Stream()\n",
    "s.append(note.Note('a4'))\n",
    "s.append(note.Note('b4'))\n",
    "s.append(note.Note('c5'))\n",
    "s.show('text')\n",
    "print('asd')\n",
    "reverse_notes(s).show('text')\n",
    "print('all but last (reverse)')\n",
    "all_but_last(reverse_notes(s).sorted).sorted.show('text')\n",
    "\n",
    "print('all but first')\n",
    "all_but_first(s).show('text')\n"
   ]
  },
  {
   "cell_type": "code",
   "execution_count": null,
   "metadata": {
    "collapsed": true
   },
   "outputs": [],
   "source": [
    "\n"
   ]
  }
 ],
 "metadata": {
  "kernelspec": {
   "display_name": "Python 3",
   "language": "python",
   "name": "python3"
  },
  "language_info": {
   "codemirror_mode": {
    "name": "ipython",
    "version": 3
   },
   "file_extension": ".py",
   "mimetype": "text/x-python",
   "name": "python",
   "nbconvert_exporter": "python",
   "pygments_lexer": "ipython3",
   "version": "3.5.1"
  }
 },
 "nbformat": 4,
 "nbformat_minor": 0
}
