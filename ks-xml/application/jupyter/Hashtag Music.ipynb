{
 "cells": [
  {
   "cell_type": "code",
   "execution_count": 116,
   "metadata": {
    "collapsed": true
   },
   "outputs": [],
   "source": [
    "import urllib\n",
    "import requests\n",
    "import os\n",
    "from copy import deepcopy as mcopy\n",
    "from music21 import *"
   ]
  },
  {
   "cell_type": "code",
   "execution_count": 5,
   "metadata": {
    "collapsed": true
   },
   "outputs": [],
   "source": [
    "# Initialize Music21 and \n",
    "\n",
    "defaults.author = ''\n",
    "defaults.title = ''\n",
    "\n",
    "def send_m21_object(obj, scoreName):\n",
    "    xml = musicxml.m21ToString.fromMusic21Object(obj)\n",
    "    headers = {'Content-Type': 'text/xml'}\n",
    "    url = urllib.parse.urljoin('http://ks-images:3000/score/', scoreName)\n",
    "    return requests.post(url, \n",
    "                        data=xml,\n",
    "                        headers=headers,\n",
    "                        timeout=5)"
   ]
  },
  {
   "cell_type": "code",
   "execution_count": 194,
   "metadata": {
    "collapsed": true
   },
   "outputs": [],
   "source": [
    "def append_octave_up(stream):\n",
    "    \"\"\"Append a copy of the stream an octave up (in place)\"\"\"\n",
    "    for n in stream.notes:\n",
    "        stream.append(n.transpose(12))\n",
    "    return stream\n",
    "\n",
    "def all_but_last(a_stream):\n",
    "    \"\"\"Return a new stream that includes all but the last note.\n",
    "    Discard any non-note items in the stream.\n",
    "    \"\"\"\n",
    "    Class = a_stream.__class__\n",
    "    result = Class()\n",
    "    notes = list(mcopy(a_stream).notesAndRests)\n",
    "    if len(notes) <= 1:\n",
    "        return result\n",
    "    result.append(notes[:-1])\n",
    "    return result\n",
    "\n",
    "def all_but_first_and_last(a_stream):\n",
    "    \"\"\"Return a new stream of the same type that includes all but\n",
    "    the first and last rests/notes\"\"\"\n",
    "    Class = a_stream.__class__\n",
    "    result = Class()\n",
    "    notes = list(mcopy(a_stream).notesAndRests)\n",
    "    if len(notes) <= 2:\n",
    "        return result\n",
    "    result.append(notes[1:-1])\n",
    "    return result\n",
    "\n",
    "def reverse_notes(a_stream):\n",
    "    \"\"\"Return a new stream with the notes and rests reversed.\"\"\"\n",
    "    Class = a_stream.__class__\n",
    "    result = Class()\n",
    "    notes = list(mcopy(a_stream).notesAndRests)\n",
    "    notes.reverse()\n",
    "    result.append(notes)\n",
    "    return result\n",
    "\n",
    "def all_but_first(a_stream):\n",
    "    \"\"\"\"\"\"\n",
    "    return reverse_notes(all_but_last(reverse_notes(a_stream)))\n",
    "\n",
    "def arp_forward_rev_x_times(a_stream, x):\n",
    "    \"\"\"Arpeggiate a stream of notes x times. Playback the stream\n",
    "    in reverse order, without playing the last note in the\n",
    "    original stream twice. Finish on the note where we started.\n",
    "    go through and back x times.\"\"\"\n",
    "    \n",
    "    Class = a_stream.__class__\n",
    "    result = Class()\n",
    "\n",
    "    # All but last reversed\n",
    "    ablr = reverse_notes(all_but_last(a_stream))\n",
    "    result.append(a_stream)\n",
    "    result.append(ablr)\n",
    "\n",
    "    appendage = all_but_first(mcopy(result).flat)    \n",
    "    result.repeatAppend(appendage, x - 1)\n",
    "    return result.flat\n"
   ]
  },
  {
   "cell_type": "code",
   "execution_count": 201,
   "metadata": {
    "collapsed": false
   },
   "outputs": [],
   "source": [
    "def hashtag_music(note_list):\n",
    "    s1 = stream.Part()\n",
    "    noteList = [note.Note(n, type='16th') for n in note_list]\n",
    "    s1.append(noteList)\n",
    "    append_octave_up(s1)\n",
    "    return arp_forward_rev_x_times(s1, 4)"
   ]
  },
  {
   "cell_type": "code",
   "execution_count": 205,
   "metadata": {
    "collapsed": false
   },
   "outputs": [
    {
     "data": {
      "text/plain": [
       "<Response [200]>"
      ]
     },
     "execution_count": 205,
     "metadata": {},
     "output_type": "execute_result"
    }
   ],
   "source": [
    "n1 = ['C3', 'D3', 'G3', 'A3']\n",
    "stream1 = hashtag_music(n1)\n",
    "stream1.insert(clef.BassClef())\n",
    "send_m21_object(stream1, 'a')\n",
    "\n",
    "n2 = ['C3', 'e-3', 'G3', 'b-3']\n",
    "stream2 = hashtag_music(n2)\n",
    "stream2.insert(clef.BassClef())\n",
    "send_m21_object(stream2, 'a')"
   ]
  },
  {
   "cell_type": "code",
   "execution_count": 206,
   "metadata": {
    "collapsed": false
   },
   "outputs": [
    {
     "name": "stdout",
     "output_type": "stream",
     "text": [
      "{0.0} <music21.clef.BassClef>\n",
      "{0.0} <music21.note.Note C>\n",
      "{0.25} <music21.note.Note E->\n",
      "{0.5} <music21.note.Note G>\n",
      "{0.75} <music21.note.Note B->\n",
      "{1.0} <music21.note.Note C>\n",
      "{1.25} <music21.note.Note E->\n",
      "{1.5} <music21.note.Note G>\n",
      "{1.75} <music21.note.Note B->\n",
      "{2.0} <music21.note.Note G>\n",
      "{2.25} <music21.note.Note E->\n",
      "{2.5} <music21.note.Note C>\n",
      "{2.75} <music21.note.Note B->\n",
      "{3.0} <music21.note.Note G>\n",
      "{3.25} <music21.note.Note E->\n",
      "{3.5} <music21.note.Note C>\n",
      "{3.75} <music21.note.Note E->\n",
      "{4.0} <music21.note.Note G>\n",
      "{4.25} <music21.note.Note B->\n",
      "{4.5} <music21.note.Note C>\n",
      "{4.75} <music21.note.Note E->\n",
      "{5.0} <music21.note.Note G>\n",
      "{5.25} <music21.note.Note B->\n",
      "{5.5} <music21.note.Note G>\n",
      "{5.75} <music21.note.Note E->\n",
      "{6.0} <music21.note.Note C>\n",
      "{6.25} <music21.note.Note B->\n",
      "{6.5} <music21.note.Note G>\n",
      "{6.75} <music21.note.Note E->\n",
      "{7.0} <music21.note.Note C>\n",
      "{7.25} <music21.note.Note E->\n",
      "{7.5} <music21.note.Note G>\n",
      "{7.75} <music21.note.Note B->\n",
      "{8.0} <music21.note.Note C>\n",
      "{8.25} <music21.note.Note E->\n",
      "{8.5} <music21.note.Note G>\n",
      "{8.75} <music21.note.Note B->\n",
      "{9.0} <music21.note.Note G>\n",
      "{9.25} <music21.note.Note E->\n",
      "{9.5} <music21.note.Note C>\n",
      "{9.75} <music21.note.Note B->\n",
      "{10.0} <music21.note.Note G>\n",
      "{10.25} <music21.note.Note E->\n",
      "{10.5} <music21.note.Note C>\n",
      "{10.75} <music21.note.Note E->\n",
      "{11.0} <music21.note.Note G>\n",
      "{11.25} <music21.note.Note B->\n",
      "{11.5} <music21.note.Note C>\n",
      "{11.75} <music21.note.Note E->\n",
      "{12.0} <music21.note.Note G>\n",
      "{12.25} <music21.note.Note B->\n",
      "{12.5} <music21.note.Note G>\n",
      "{12.75} <music21.note.Note E->\n",
      "{13.0} <music21.note.Note C>\n",
      "{13.25} <music21.note.Note B->\n",
      "{13.5} <music21.note.Note G>\n",
      "{13.75} <music21.note.Note E->\n",
      "{14.0} <music21.note.Note C>\n"
     ]
    }
   ],
   "source": [
    "stream1.show('text')"
   ]
  }
 ],
 "metadata": {
  "kernelspec": {
   "display_name": "Python 3",
   "language": "python",
   "name": "python3"
  },
  "language_info": {
   "codemirror_mode": {
    "name": "ipython",
    "version": 3
   },
   "file_extension": ".py",
   "mimetype": "text/x-python",
   "name": "python",
   "nbconvert_exporter": "python",
   "pygments_lexer": "ipython3",
   "version": "3.5.1"
  }
 },
 "nbformat": 4,
 "nbformat_minor": 0
}
