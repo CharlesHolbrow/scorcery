{
 "cells": [
  {
   "cell_type": "code",
   "execution_count": 1,
   "metadata": {
    "collapsed": true
   },
   "outputs": [],
   "source": [
    "import urllib\n",
    "import requests\n",
    "import os\n",
    "import itertools\n",
    "import math\n",
    "from copy import deepcopy as mcopy\n",
    "from music21 import *"
   ]
  },
  {
   "cell_type": "code",
   "execution_count": 2,
   "metadata": {
    "collapsed": false
   },
   "outputs": [
    {
     "name": "stderr",
     "output_type": "stream",
     "text": [
      "/opt/conda/lib/python3.5/site-packages/matplotlib/font_manager.py:273: UserWarning: Matplotlib is building the font cache using fc-list. This may take a moment.\n",
      "  warnings.warn('Matplotlib is building the font cache using fc-list. This may take a moment.')\n"
     ]
    }
   ],
   "source": [
    "# Return a generator that iterates over all permutations of a list\n",
    "# http://stackoverflow.com/questions/2710713/algorithm-to-generate-all-possible-permutations-of-a-list\n",
    "def permute(xs, low=0):\n",
    "    if low + 1 >= len(xs):\n",
    "        yield xs\n",
    "    else:\n",
    "        for p in permute(xs, low + 1):\n",
    "            yield p        \n",
    "        for i in range(low + 1, len(xs)):        \n",
    "            xs[low], xs[i] = xs[i], xs[low]\n",
    "            for p in permute(xs, low + 1):\n",
    "                yield p        \n",
    "            xs[low], xs[i] = xs[i], xs[low]\n",
    "\n",
    "def nth_permutation_indices(i, m):\n",
    "    available_positions = list(range(m))\n",
    "    indices = [0 for r in range(m)]\n",
    "    res     = i\n",
    "    for row_index in range(m-1):\n",
    "        # How many posibilities there are in next rows?\n",
    "        n1f      = math.factorial(m - row_index -1)\n",
    "        # What is the index of this row?\n",
    "        res      = math.floor(i / n1f)\n",
    "        # The index may have already been used in a previous row.\n",
    "        # take one from our list of indexes\n",
    "        position = available_positions[res]\n",
    "        del available_positions[res]\n",
    "\n",
    "        indices[row_index] = position\n",
    "        # our next iteration through the loop will be constrained by \n",
    "        i = i - (res * n1f)\n",
    "        \n",
    "    indices[m-1] = available_positions[0]\n",
    "    return indices\n"
   ]
  },
  {
   "cell_type": "code",
   "execution_count": 3,
   "metadata": {
    "collapsed": false
   },
   "outputs": [
    {
     "name": "stderr",
     "output_type": "stream",
     "text": [
      "/opt/conda/lib/python3.5/site-packages/matplotlib/font_manager.py:273: UserWarning: Matplotlib is building the font cache using fc-list. This may take a moment.\n",
      "  warnings.warn('Matplotlib is building the font cache using fc-list. This may take a moment.')\n"
     ]
    }
   ],
   "source": [
    "# Initialize Music21 and \n",
    "\n",
    "defaults.author = ''\n",
    "defaults.title = ''\n",
    "\n",
    "def send_m21_object(obj, scoreName):\n",
    "    xml = musicxml.m21ToString.fromMusic21Object(obj)\n",
    "    headers = {'Content-Type': 'text/xml'}\n",
    "    url = urllib.parse.urljoin('http://ks-images:3000/score/', scoreName)\n",
    "    return requests.post(url, \n",
    "                        data=xml,\n",
    "                        headers=headers,\n",
    "                        timeout=5)\n",
    "def write_midi_file(a_stream, filename='default.mid'):\n",
    "    # streanToMidiFile is buggy for non-flat streams\n",
    "    mf = midi.translate.streamToMidiFile(a_stream.flat)\n",
    "    mf.open(filename, 'wb')\n",
    "    mf.write()\n",
    "    mf.close()"
   ]
  },
  {
   "cell_type": "code",
   "execution_count": 4,
   "metadata": {
    "collapsed": true
   },
   "outputs": [],
   "source": [
    "def append_octave_up(stream):\n",
    "    \"\"\"Append a copy of the stream an octave up (in place)\"\"\"\n",
    "    for n in stream.notes:\n",
    "        stream.append(n.transpose(12))\n",
    "    return stream\n",
    "\n",
    "def all_but_last(a_stream):\n",
    "    \"\"\"Return a new stream that includes all but the last note.\n",
    "    Discard any non-note items in the stream.\n",
    "    \"\"\"\n",
    "    Class = a_stream.__class__\n",
    "    result = Class()\n",
    "    notes = list(mcopy(a_stream).notesAndRests)\n",
    "    if len(notes) <= 1:\n",
    "        return result\n",
    "    result.append(notes[:-1])\n",
    "    return result\n",
    "\n",
    "def all_but_first_and_last(a_stream):\n",
    "    \"\"\"Return a new stream of the same type that includes all but\n",
    "    the first and last rests/notes\"\"\"\n",
    "    Class = a_stream.__class__\n",
    "    result = Class()\n",
    "    notes = list(mcopy(a_stream).notesAndRests)\n",
    "    if len(notes) <= 2:\n",
    "        return result\n",
    "    result.append(notes[1:-1])\n",
    "    return result\n",
    "\n",
    "def reverse_notes(a_stream):\n",
    "    \"\"\"Return a new stream with the notes and rests reversed.\"\"\"\n",
    "    Class = a_stream.__class__\n",
    "    result = Class()\n",
    "    notes = list(mcopy(a_stream).notesAndRests)\n",
    "    notes.reverse()\n",
    "    result.append(notes)\n",
    "    return result\n",
    "\n",
    "def all_but_first(a_stream):\n",
    "    \"\"\"\"\"\"\n",
    "    return reverse_notes(all_but_last(reverse_notes(a_stream)))\n",
    "\n",
    "def arp_forward_rev_x_times(a_stream, x):\n",
    "    \"\"\"Arpeggiate a stream of notes x times. Playback the stream\n",
    "    in reverse order, without playing the last note in the\n",
    "    original stream twice. Go through and back x times.\"\"\"\n",
    "    \n",
    "    Class = a_stream.__class__\n",
    "    result = Class()\n",
    "\n",
    "    # All but last reversed\n",
    "    abflr = reverse_notes(all_but_first_and_last(a_stream))\n",
    "    result.append(a_stream)\n",
    "    result.append(abflr)\n",
    "\n",
    "    appendage = mcopy(result).flat\n",
    "    result.repeatAppend(appendage, x - 1)\n",
    "    return result.flat\n"
   ]
  },
  {
   "cell_type": "code",
   "execution_count": 5,
   "metadata": {
    "collapsed": false
   },
   "outputs": [],
   "source": [
    "def hashtag_music(note_list):\n",
    "    s1 = stream.Part()\n",
    "    noteList = [note.Note(n, type='16th') for n in note_list]\n",
    "    s1.append(noteList)\n",
    "    append_octave_up(s1)\n",
    "    return arp_forward_rev_x_times(s1, 1)"
   ]
  },
  {
   "cell_type": "code",
   "execution_count": 11,
   "metadata": {
    "collapsed": false
   },
   "outputs": [
    {
     "data": {
      "text/plain": [
       "<Response [200]>"
      ]
     },
     "execution_count": 11,
     "metadata": {},
     "output_type": "execute_result"
    }
   ],
   "source": [
    "n1 = ['C3', 'D3', 'G3', 'A3']\n",
    "n1_midi = [note.Note(name).pitch.midi for name in n1]\n",
    "stream1 = hashtag_music(n1)\n",
    "stream1.insert(clef.BassClef())\n",
    "send_m21_object(stream1, 'a')\n",
    "\n",
    "n2 = ['C3', 'e3', 'G3', 'b3']\n",
    "n2_midi = [note.Note(name).pitch.midi for name in n2]\n",
    " \n",
    "stream2 = hashtag_music(n2)\n",
    "stream2.insert(clef.BassClef())\n",
    "send_m21_object(stream2, 'a')\n",
    "\n",
    "n3 = ['D3', 'E3', 'A3', 'B3']\n",
    "n3_midi = [note.Note(name).pitch.midi for name in n3]\n",
    "stream3 = hashtag_music(n3)\n",
    "stream3.insert(clef.BassClef())\n",
    "send_m21_object(stream3, 'a')"
   ]
  },
  {
   "cell_type": "code",
   "execution_count": 7,
   "metadata": {
    "collapsed": true
   },
   "outputs": [],
   "source": [
    "cycle_me = [n1_midi, n1_midi, n2_midi, n2_midi, n3_midi, n3_midi]\n",
    "cycle_me = [ns + [n + 12 for n in ns] for ns in cycle_me] # append upper octave"
   ]
  },
  {
   "cell_type": "code",
   "execution_count": 34,
   "metadata": {
    "collapsed": false
   },
   "outputs": [],
   "source": [
    "# Randomize and mirror\n",
    "permutation_stream = stream.Stream()\n",
    "for notes_midi, order, r in zip(itertools.cycle(cycle_me), permute(list(range(8))), range(200)):\n",
    "    \n",
    "    re_ordered_midi = [notes_midi[i] for i in order]\n",
    "\n",
    "    # ramp arp back down\n",
    "    reversed_midi = re_ordered_midi[1: -1]\n",
    "    reversed_midi.reverse()    \n",
    "    forward_back_midi = re_ordered_midi + reversed_midi\n",
    "        \n",
    "    # add \n",
    "    permutation_stream.append([note.Note(num, type='16th') for num in forward_back_midi])"
   ]
  },
  {
   "cell_type": "code",
   "execution_count": 8,
   "metadata": {
    "collapsed": false
   },
   "outputs": [],
   "source": [
    "# Randomize full forward and back\n",
    "\n",
    "initial_order = nth_permutation_indices(0, 14)\n",
    "permutation_stream = stream.Stream()\n",
    "for notes_midi, order, r in zip(itertools.cycle(cycle_me), permute(initial_order), range(100)):\n",
    "    \n",
    "    # ramp arp back down\n",
    "    reversed_midi = notes_midi[1: -1]\n",
    "    reversed_midi.reverse()    \n",
    "    forward_back_midi = notes_midi + reversed_midi\n",
    "    \n",
    "    re_ordered_midi = [forward_back_midi[i] for i in order]\n",
    "        \n",
    "    # add \n",
    "    permutation_stream.append([note.Note(num, type='16th') for num in re_ordered_midi])"
   ]
  },
  {
   "cell_type": "code",
   "execution_count": 9,
   "metadata": {
    "collapsed": false
   },
   "outputs": [],
   "source": [
    "write_midi_file(permutation_stream, '/session/default.mid')"
   ]
  },
  {
   "cell_type": "code",
   "execution_count": 48,
   "metadata": {
    "collapsed": true
   },
   "outputs": [],
   "source": [
    "write_midi_file(stream3)"
   ]
  },
  {
   "cell_type": "code",
   "execution_count": 43,
   "metadata": {
    "collapsed": false
   },
   "outputs": [
    {
     "data": {
      "text/plain": [
       "<Response [200]>"
      ]
     },
     "execution_count": 43,
     "metadata": {},
     "output_type": "execute_result"
    }
   ],
   "source": [
    "send_m21_object(stream1.flat, 'a')"
   ]
  },
  {
   "cell_type": "code",
   "execution_count": 49,
   "metadata": {
    "collapsed": false
   },
   "outputs": [],
   "source": [
    "three_sections = stream.Stream()\n",
    "three_sections.append([stream1, stream2, stream3])\n",
    "write_midi_file(three_sections.flat)"
   ]
  }
 ],
 "metadata": {
  "kernelspec": {
   "display_name": "Python 3",
   "language": "python",
   "name": "python3"
  },
  "language_info": {
   "codemirror_mode": {
    "name": "ipython",
    "version": 3
   },
   "file_extension": ".py",
   "mimetype": "text/x-python",
   "name": "python",
   "nbconvert_exporter": "python",
   "pygments_lexer": "ipython3",
   "version": "3.5.1"
  }
 },
 "nbformat": 4,
 "nbformat_minor": 0
}
