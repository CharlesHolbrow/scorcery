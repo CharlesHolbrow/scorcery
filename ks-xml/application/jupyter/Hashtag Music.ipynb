{
 "cells": [
  {
   "cell_type": "code",
   "execution_count": 12,
   "metadata": {
    "collapsed": false
   },
   "outputs": [],
   "source": [
    "import urllib\n",
    "import requests\n",
    "import itertools\n",
    "from copy import deepcopy as mcopy\n",
    "from music21 import *\n",
    "import threading\n",
    "import time\n",
    "import math\n",
    "\n",
    "from ksxml import permute, \\\n",
    "    nth_permutation_indices, \\\n",
    "    send_m21_object, \\\n",
    "    write_midi_file, \\\n",
    "    send_transport_command, \\\n",
    "    stream_generator_from_chord_arrays, \\\n",
    "    note_list_from_note_names, \\\n",
    "    request_svg_creation"
   ]
  },
  {
   "cell_type": "code",
   "execution_count": 3,
   "metadata": {
    "collapsed": false
   },
   "outputs": [],
   "source": [
    "# for generating SVGs asyncronously\n",
    "def stop_creating_images():\n",
    "    for thread in threading.enumerate():\n",
    "        if thread.isAlive() and thread.name == 'ks-image-gen':\n",
    "            thread.cancel()\n",
    "\n",
    "def create_images(streams, name_prefix, offset, current_index = 0):\n",
    "    if current_index >= len(streams): return\n",
    "    name = name_prefix + str(current_index + offset)\n",
    "    res = request_svg_creation(streams[current_index], name)\n",
    "\n",
    "    t = threading.Timer(0.5, create_images,\n",
    "                        [streams, name_prefix, offset, current_index + 1])\n",
    "    t.name = 'ks-image-gen'\n",
    "    t.daemon = True\n",
    "    t.start()"
   ]
  },
  {
   "cell_type": "code",
   "execution_count": 132,
   "metadata": {
    "collapsed": false
   },
   "outputs": [],
   "source": [
    "# source material\n",
    "n1 = ['C3', 'D3', 'G3', 'A3']\n",
    "n2 = ['C3', 'e3', 'G3', 'b3'] \n",
    "n3 = ['D3', 'E3', 'A3', 'B3']\n",
    "\n",
    "chords_with_names = [n1, n1, n2, n2, n3, n3]\n",
    "\n",
    "# same as above, but cycle around the circle of fifths\n",
    "chord_pattern_cycle_around_circle_of_fifths = []\n",
    "chord_pattern_cycle_around_circle_of_fifths_half_time = []\n",
    "bass_notes_half_time = []\n",
    "for note_names_in_chord, i in zip(itertools.cycle(chords_with_names), range(0, 1000)):\n",
    "    transposition_amount = (math.floor(i / len(chords_with_names)) * 5) % 12\n",
    "    chord_by_note_numbers = note_list_from_note_names(note_names_in_chord)\n",
    "    chord_by_note_numbers = [n.pitch.midi for n in chord_by_note_numbers]\n",
    "    chord_by_note_numbers_transposed = [midi_num + transposition_amount for midi_num in chord_by_note_numbers]\n",
    "    chord_pattern_cycle_around_circle_of_fifths.append(chord_by_note_numbers_transposed)\n",
    "    if i % 2 == 0: continue\n",
    "    chord_pattern_cycle_around_circle_of_fifths_half_time.append(chord_by_note_numbers_transposed)\n",
    "    bass_notes_half_time.append(chord_by_note_numbers_transposed[0])\n",
    "    "
   ]
  },
  {
   "cell_type": "code",
   "execution_count": 134,
   "metadata": {
    "collapsed": false
   },
   "outputs": [],
   "source": [
    "# Create our Music21 Streams\n",
    "start_index = 0\n",
    "count = 1000\n",
    "\n",
    "stream_gen = stream_generator_from_chord_arrays(chord_pattern_cycle_around_circle_of_fifths, start_index, count)\n",
    "streams = [s for s in stream_gen]\n",
    "full_stream = stream.Stream()\n",
    "for s, i in zip(streams, range(start_index, count)):\n",
    "#     s.insert(clef.BassClef())\n",
    "    s.insert(meter.TimeSignature('7/8'))\n",
    "    full_stream.append(s)\n",
    "    \n",
    "write_midi_file(full_stream.flat, '/session/default.mid')\n",
    "# send_transport_command('a', 'reload')"
   ]
  },
  {
   "cell_type": "code",
   "execution_count": 167,
   "metadata": {
    "collapsed": false
   },
   "outputs": [],
   "source": [
    "chords_whole_notes = []\n",
    "chords = [chord.Chord(c) for c in chord_pattern_cycle_around_circle_of_fifths_half_time]\n",
    "chord_stream = stream.Stream()\n",
    "bass_stream = stream.Stream()\n",
    "\n",
    "for c in chords:\n",
    "    c.quarterLength = 7\n",
    "for c, i in zip(itertools.cycle(chords), range(count)):\n",
    "    chord_stream.append(mcopy(c))\n",
    "\n",
    "    # Create a stream to make the chord image from\n",
    "    chord_whole_note_stream = stream.Stream()\n",
    "    chord_whole_note_stream.insert(meter.TimeSignature('7/8'))\n",
    "    # This chord will go in our stream\n",
    "    chord_whole_note = mcopy(c)\n",
    "    chord_whole_note.quarterLength = 3.5\n",
    "    chord_whole_note_stream.append(chord_whole_note)\n",
    "    # append the note twice\n",
    "    chords_whole_notes.append(chord_whole_note_stream)\n",
    "    chords_whole_notes.append(mcopy(chord_whole_note_stream))\n",
    "\n",
    "    bass_pitch = c.bass()\n",
    "    bass_note = note.Note()\n",
    "    bass_note.pitch = bass_pitch\n",
    "    bass_note.quarterLength = 7\n",
    "    bass_stream.append(bass_note)\n",
    "    \n"
   ]
  },
  {
   "cell_type": "code",
   "execution_count": 136,
   "metadata": {
    "collapsed": true
   },
   "outputs": [],
   "source": [
    "write_midi_file(chord_stream, '/session/chords.mid')"
   ]
  },
  {
   "cell_type": "code",
   "execution_count": 137,
   "metadata": {
    "collapsed": false
   },
   "outputs": [],
   "source": [
    "write_midi_file(bass_stream, '/session/bass.mid')"
   ]
  },
  {
   "cell_type": "code",
   "execution_count": 190,
   "metadata": {
    "collapsed": false
   },
   "outputs": [
    {
     "data": {
      "text/plain": [
       "False"
      ]
     },
     "execution_count": 190,
     "metadata": {},
     "output_type": "execute_result"
    }
   ],
   "source": [
    "c = chords_whole_notes[24]\n",
    "c.\n",
    "\n"
   ]
  },
  {
   "cell_type": "code",
   "execution_count": 99,
   "metadata": {
    "collapsed": false
   },
   "outputs": [],
   "source": [
    "# Create images from the \n",
    "create_images(streams, 'htv00-', start_index)"
   ]
  },
  {
   "cell_type": "code",
   "execution_count": 171,
   "metadata": {
    "collapsed": false
   },
   "outputs": [],
   "source": [
    "create_images(chords_whole_notes, 'htv00chord-', start_index)"
   ]
  },
  {
   "cell_type": "code",
   "execution_count": 89,
   "metadata": {
    "collapsed": false
   },
   "outputs": [
    {
     "data": {
      "text/plain": [
       "{'path': '/score-img/htv00-.svg'}"
      ]
     },
     "execution_count": 89,
     "metadata": {},
     "output_type": "execute_result"
    }
   ],
   "source": [
    "a = request_svg_creation(streams[90], 'htv00-')\n",
    "a.json()"
   ]
  },
  {
   "cell_type": "code",
   "execution_count": 170,
   "metadata": {
    "collapsed": true
   },
   "outputs": [],
   "source": [
    "stop_creating_images()"
   ]
  },
  {
   "cell_type": "code",
   "execution_count": 38,
   "metadata": {
    "collapsed": false
   },
   "outputs": [
    {
     "data": {
      "text/plain": [
       "<Response [200]>"
      ]
     },
     "execution_count": 38,
     "metadata": {},
     "output_type": "execute_result"
    }
   ],
   "source": [
    "# Push score to browser client from a m21 stream object\n",
    "send_m21_object('b', chords[0])"
   ]
  },
  {
   "cell_type": "code",
   "execution_count": 11,
   "metadata": {
    "collapsed": false
   },
   "outputs": [],
   "source": [
    "# Write a score file\n",
    "write_midi_file(streams[0], '/session/default.mid')"
   ]
  },
  {
   "cell_type": "code",
   "execution_count": 194,
   "metadata": {
    "collapsed": false
   },
   "outputs": [
    {
     "data": {
      "text/plain": [
       "<Response [200]>"
      ]
     },
     "execution_count": 194,
     "metadata": {},
     "output_type": "execute_result"
    }
   ],
   "source": [
    "# Transport control via browser\n",
    "send_transport_command('a', 'imagePrefix', {'value':'htv00-'})\n",
    "send_transport_command('a', 'offset', {'value':0})\n",
    "\n",
    "send_transport_command('b', 'imagePrefix', {'value':'htv00chord-'})\n",
    "send_transport_command('b', 'offset', {'value':0})\n",
    "\n",
    "send_transport_command('a', 'play')"
   ]
  },
  {
   "cell_type": "code",
   "execution_count": 191,
   "metadata": {
    "collapsed": false
   },
   "outputs": [
    {
     "data": {
      "text/plain": [
       "<Response [200]>"
      ]
     },
     "execution_count": 191,
     "metadata": {},
     "output_type": "execute_result"
    }
   ],
   "source": [
    "send_transport_command('a', 'stop')"
   ]
  },
  {
   "cell_type": "code",
   "execution_count": 195,
   "metadata": {
    "collapsed": false
   },
   "outputs": [
    {
     "data": {
      "text/plain": [
       "<Response [200]>"
      ]
     },
     "execution_count": 195,
     "metadata": {},
     "output_type": "execute_result"
    }
   ],
   "source": [
    "send_transport_command('a', 'reload')"
   ]
  },
  {
   "cell_type": "code",
   "execution_count": 6,
   "metadata": {
    "collapsed": false
   },
   "outputs": [
    {
     "data": {
      "text/plain": [
       "<Response [200]>"
      ]
     },
     "execution_count": 6,
     "metadata": {},
     "output_type": "execute_result"
    }
   ],
   "source": [
    "request_svg_creation(streams[9], 'test2')"
   ]
  }
 ],
 "metadata": {
  "kernelspec": {
   "display_name": "Python 3",
   "language": "python",
   "name": "python3"
  },
  "language_info": {
   "codemirror_mode": {
    "name": "ipython",
    "version": 3
   },
   "file_extension": ".py",
   "mimetype": "text/x-python",
   "name": "python",
   "nbconvert_exporter": "python",
   "pygments_lexer": "ipython3",
   "version": "3.5.1"
  }
 },
 "nbformat": 4,
 "nbformat_minor": 0
}
