{
 "cells": [
  {
   "cell_type": "code",
   "execution_count": 34,
   "metadata": {
    "collapsed": false
   },
   "outputs": [],
   "source": [
    "import urllib\n",
    "import requests\n",
    "import itertools\n",
    "from copy import deepcopy as mcopy\n",
    "from music21 import *\n",
    "import threading\n",
    "import time\n",
    "\n",
    "from ksxml import permute, \\\n",
    "    nth_permutation_indices, \\\n",
    "    send_m21_object, \\\n",
    "    write_midi_file, \\\n",
    "    send_transport_command, \\\n",
    "    stream_generator_from_chord_arrays"
   ]
  },
  {
   "cell_type": "code",
   "execution_count": 2,
   "metadata": {
    "collapsed": false
   },
   "outputs": [
    {
     "data": {
      "text/plain": [
       "<Response [200]>"
      ]
     },
     "execution_count": 2,
     "metadata": {},
     "output_type": "execute_result"
    }
   ],
   "source": [
    "send_transport_command('a', 'play')"
   ]
  },
  {
   "cell_type": "code",
   "execution_count": 3,
   "metadata": {
    "collapsed": false
   },
   "outputs": [],
   "source": [
    "# source material\n",
    "n1 = ['C3', 'D3', 'G3', 'A3']\n",
    "n2 = ['C3', 'e3', 'G3', 'b3'] \n",
    "n3 = ['D3', 'E3', 'A3', 'B3']\n",
    "\n",
    "chords_with_names = [n1, n1, n2, n2, n3, n3]"
   ]
  },
  {
   "cell_type": "code",
   "execution_count": 30,
   "metadata": {
    "collapsed": false
   },
   "outputs": [],
   "source": [
    "stream_gen = stream_generator_from_chord_arrays(chords_with_names, 0, 400)\n",
    "streams = [s for s in stream_gen]\n",
    "full_stream = stream.Stream()\n",
    "for s in streams:\n",
    "    s.insert(clef.BassClef())\n",
    "    full_stream.append(s)\n",
    "    \n",
    "write_midi_file(full_stream.flat, '/session/default.mid')"
   ]
  },
  {
   "cell_type": "code",
   "execution_count": 64,
   "metadata": {
    "collapsed": false
   },
   "outputs": [],
   "source": [
    "def stop():\n",
    "    for thread in threading.enumerate():\n",
    "        if thread.isAlive() and thread.name == 'ks-playback':\n",
    "            thread.cancel()\n",
    "    send_transport_command('a', 'stop')"
   ]
  },
  {
   "cell_type": "code",
   "execution_count": 65,
   "metadata": {
    "collapsed": false
   },
   "outputs": [],
   "source": [
    "def send_stream_by_index(streams, index, end = 100):\n",
    "    t = threading.Timer(2.1, send_stream_by_index, [streams, index + 1, end])\n",
    "    t.name = 'ks-playback'\n",
    "    t.daemon = True\n",
    "    t.start()\n",
    "    send_m21_object('a', streams[index])\n",
    "    if index > end:\n",
    "        t.cancel()"
   ]
  },
  {
   "cell_type": "code",
   "execution_count": 66,
   "metadata": {
    "collapsed": true
   },
   "outputs": [],
   "source": [
    "def start(streams, end=10):\n",
    "    stop()\n",
    "    send_stream_by_index(streams, 0, end)\n",
    "    time.sleep(0.05)\n",
    "    send_transport_command('a', 'reload')\n",
    "    send_transport_command('a', 'play')"
   ]
  },
  {
   "cell_type": "code",
   "execution_count": 67,
   "metadata": {
    "collapsed": true
   },
   "outputs": [],
   "source": [
    "start(streams, 100)"
   ]
  },
  {
   "cell_type": "code",
   "execution_count": 14,
   "metadata": {
    "collapsed": false
   },
   "outputs": [
    {
     "data": {
      "text/plain": [
       "<Response [200]>"
      ]
     },
     "execution_count": 14,
     "metadata": {},
     "output_type": "execute_result"
    }
   ],
   "source": [
    "# Test pushing score to browser client from a m21 stream object\n",
    "send_m21_object('a', streams[3])"
   ]
  },
  {
   "cell_type": "code",
   "execution_count": 11,
   "metadata": {
    "collapsed": false
   },
   "outputs": [],
   "source": [
    "# Test writing a score file\n",
    "write_midi_file(streams[0], '/session/default.mid')"
   ]
  },
  {
   "cell_type": "code",
   "execution_count": 33,
   "metadata": {
    "collapsed": false
   },
   "outputs": [
    {
     "data": {
      "text/plain": [
       "<Response [200]>"
      ]
     },
     "execution_count": 33,
     "metadata": {},
     "output_type": "execute_result"
    }
   ],
   "source": [
    "# Test Transport Controls\n",
    "send_transport_command('a', 'play')"
   ]
  },
  {
   "cell_type": "code",
   "execution_count": 136,
   "metadata": {
    "collapsed": false
   },
   "outputs": [
    {
     "data": {
      "text/plain": [
       "<Response [200]>"
      ]
     },
     "execution_count": 136,
     "metadata": {},
     "output_type": "execute_result"
    }
   ],
   "source": [
    "send_transport_command('a', 'stop')"
   ]
  },
  {
   "cell_type": "code",
   "execution_count": 40,
   "metadata": {
    "collapsed": false
   },
   "outputs": [
    {
     "data": {
      "text/plain": [
       "<Response [200]>"
      ]
     },
     "execution_count": 40,
     "metadata": {},
     "output_type": "execute_result"
    }
   ],
   "source": [
    "send_transport_command('a', 'reload')"
   ]
  },
  {
   "cell_type": "code",
   "execution_count": 2,
   "metadata": {
    "collapsed": false
   },
   "outputs": [],
   "source": [
    "from ksxml import strip_ids_from_xmlstr"
   ]
  }
 ],
 "metadata": {
  "kernelspec": {
   "display_name": "Python 3",
   "language": "python",
   "name": "python3"
  },
  "language_info": {
   "codemirror_mode": {
    "name": "ipython",
    "version": 3
   },
   "file_extension": ".py",
   "mimetype": "text/x-python",
   "name": "python",
   "nbconvert_exporter": "python",
   "pygments_lexer": "ipython3",
   "version": "3.5.1"
  }
 },
 "nbformat": 4,
 "nbformat_minor": 0
}
